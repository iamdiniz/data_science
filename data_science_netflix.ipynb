{
  "cells": [
    {
      "cell_type": "markdown",
      "metadata": {
        "id": "rKfKkUtvcC4R"
      },
      "source": [
        "# ***- Guilherme Kauã Diniz Cabral - 01549420***\n",
        "\n",
        "# ***1. Escolha da Base de Dados: https://www.kaggle.com/datasets/shivamb/netflix-shows***\n",
        "\n",
        "**- Justificativa: Escolhi essa base porque vi que tinha valores ausentes, e seria uma otima oportunidade para treinar a forma que trato os valores ausentes. É uma base que possui: Anúncios de filmes e programas de TV na Netflix - Regularmente Atualizado**"
      ]
    },
    {
      "cell_type": "markdown",
      "metadata": {
        "id": "I1YHDuXAxiK3"
      },
      "source": [
        "# ***- Tecnologias utilizadas:***\n",
        "\n",
        "- **Pandas:** Manipulação de dados em tabelas (DataFrames). Permite filtrar, transformar e analisar datasets.\n",
        "\n",
        "- **Numpy** → Trabalha com arrays e operações matemáticas eficientes. Usamos para calcular o Z-score.\n",
        "\n",
        "- **Matplotlib.pyplot (plt) →** Criação de gráficos básicos como histogramas e boxplots.\n",
        "\n",
        "- **Seaborn:**(sns) → Biblioteca para visualizações estatísticas mais bonitas e sofisticadas. Usamos para criar histogramas e boxplots.\n",
        "\n",
        "- **Scipy.stats** (zscore, kurtosis) → Fornece funções estatísticas. O zscore é usado para detectar outliers, e a kurtosis mede o formato da distribuição dos dados."
      ]
    },
    {
      "cell_type": "code",
      "execution_count": 112,
      "metadata": {
        "id": "U3RajirKBT3K"
      },
      "outputs": [],
      "source": [
        "import pandas as pd\n",
        "\n",
        "# Caminho para o arquivo CSV\n",
        "csv_path = '/content/netflix_titles.csv'\n",
        "\n",
        "# Carregar a base de dados Image_name\n",
        "dados = pd.read_csv(csv_path)"
      ]
    },
    {
      "cell_type": "markdown",
      "metadata": {
        "id": "Tl68WLnzc9LO"
      },
      "source": [
        "# ***2. Análise Preliminar:***\n",
        "\n",
        "**- Carregar os dados e exibir as primeiras linhas da tabela**"
      ]
    },
    {
      "cell_type": "code",
      "execution_count": 113,
      "metadata": {
        "colab": {
          "base_uri": "https://localhost:8080/",
          "height": 660
        },
        "id": "flk7eUVWCKE5",
        "outputId": "7f315508-8b98-4803-f7ce-f2fa61c54331"
      },
      "outputs": [
        {
          "data": {
            "application/vnd.google.colaboratory.intrinsic+json": {
              "summary": "{\n  \"name\": \"dados\",\n  \"rows\": 8807,\n  \"fields\": [\n    {\n      \"column\": \"show_id\",\n      \"properties\": {\n        \"dtype\": \"string\",\n        \"num_unique_values\": 8807,\n        \"samples\": [\n          \"s4971\",\n          \"s3363\",\n          \"s5495\"\n        ],\n        \"semantic_type\": \"\",\n        \"description\": \"\"\n      }\n    },\n    {\n      \"column\": \"type\",\n      \"properties\": {\n        \"dtype\": \"category\",\n        \"num_unique_values\": 2,\n        \"samples\": [\n          \"TV Show\",\n          \"Movie\"\n        ],\n        \"semantic_type\": \"\",\n        \"description\": \"\"\n      }\n    },\n    {\n      \"column\": \"title\",\n      \"properties\": {\n        \"dtype\": \"string\",\n        \"num_unique_values\": 8807,\n        \"samples\": [\n          \"Game Over, Man!\",\n          \"Arsenio Hall: Smart & Classy\"\n        ],\n        \"semantic_type\": \"\",\n        \"description\": \"\"\n      }\n    },\n    {\n      \"column\": \"director\",\n      \"properties\": {\n        \"dtype\": \"string\",\n        \"num_unique_values\": 4528,\n        \"samples\": [\n          \"Kanwal Sethi\",\n          \"R\\u00e9my Four, Julien War\"\n        ],\n        \"semantic_type\": \"\",\n        \"description\": \"\"\n      }\n    },\n    {\n      \"column\": \"cast\",\n      \"properties\": {\n        \"dtype\": \"string\",\n        \"num_unique_values\": 7692,\n        \"samples\": [\n          \"Tzi Ma, Christine Ko, Hong-Chi Lee, Hayden Szeto, Kunjue Li, Fiona Fu, James Saito, Joan Chen\",\n          \"Priyanshu Painyuli, Chandrachoor Rai, Shadab Kamal, Rajeev Siddhartha, Sheetal Thakur, Ninad Kamat, Swati Semwal, Eijaz Khan\"\n        ],\n        \"semantic_type\": \"\",\n        \"description\": \"\"\n      }\n    },\n    {\n      \"column\": \"country\",\n      \"properties\": {\n        \"dtype\": \"category\",\n        \"num_unique_values\": 748,\n        \"samples\": [\n          \"United States, United Kingdom, Denmark, Sweden\",\n          \"United Kingdom, Hong Kong\"\n        ],\n        \"semantic_type\": \"\",\n        \"description\": \"\"\n      }\n    },\n    {\n      \"column\": \"date_added\",\n      \"properties\": {\n        \"dtype\": \"category\",\n        \"num_unique_values\": 1767,\n        \"samples\": [\n          \"October 22, 2018\",\n          \"January 29, 2021\"\n        ],\n        \"semantic_type\": \"\",\n        \"description\": \"\"\n      }\n    },\n    {\n      \"column\": \"release_year\",\n      \"properties\": {\n        \"dtype\": \"number\",\n        \"std\": 8,\n        \"min\": 1925,\n        \"max\": 2021,\n        \"num_unique_values\": 74,\n        \"samples\": [\n          1996,\n          1969\n        ],\n        \"semantic_type\": \"\",\n        \"description\": \"\"\n      }\n    },\n    {\n      \"column\": \"rating\",\n      \"properties\": {\n        \"dtype\": \"category\",\n        \"num_unique_values\": 17,\n        \"samples\": [\n          \"PG-13\",\n          \"TV-MA\"\n        ],\n        \"semantic_type\": \"\",\n        \"description\": \"\"\n      }\n    },\n    {\n      \"column\": \"duration\",\n      \"properties\": {\n        \"dtype\": \"category\",\n        \"num_unique_values\": 220,\n        \"samples\": [\n          \"37 min\",\n          \"177 min\"\n        ],\n        \"semantic_type\": \"\",\n        \"description\": \"\"\n      }\n    },\n    {\n      \"column\": \"listed_in\",\n      \"properties\": {\n        \"dtype\": \"category\",\n        \"num_unique_values\": 514,\n        \"samples\": [\n          \"Crime TV Shows, International TV Shows, TV Mysteries\",\n          \"Children & Family Movies, Classic Movies, Dramas\"\n        ],\n        \"semantic_type\": \"\",\n        \"description\": \"\"\n      }\n    },\n    {\n      \"column\": \"description\",\n      \"properties\": {\n        \"dtype\": \"string\",\n        \"num_unique_values\": 8775,\n        \"samples\": [\n          \"A heedless teen drifter who falls for a small-town waitress makes the mistake of robbing a drug lord, putting his life and newfound love in jeopardy.\",\n          \"Twelve-year-old Calvin manages to join the navy and serves in the battle of Guadalcanal. But when his age is revealed, the boy is sent to the brig.\"\n        ],\n        \"semantic_type\": \"\",\n        \"description\": \"\"\n      }\n    }\n  ]\n}",
              "type": "dataframe",
              "variable_name": "dados"
            },
            "text/html": [
              "\n",
              "  <div id=\"df-54cc211e-5f94-4479-9d44-9537e17c134c\" class=\"colab-df-container\">\n",
              "    <div>\n",
              "<style scoped>\n",
              "    .dataframe tbody tr th:only-of-type {\n",
              "        vertical-align: middle;\n",
              "    }\n",
              "\n",
              "    .dataframe tbody tr th {\n",
              "        vertical-align: top;\n",
              "    }\n",
              "\n",
              "    .dataframe thead th {\n",
              "        text-align: right;\n",
              "    }\n",
              "</style>\n",
              "<table border=\"1\" class=\"dataframe\">\n",
              "  <thead>\n",
              "    <tr style=\"text-align: right;\">\n",
              "      <th></th>\n",
              "      <th>show_id</th>\n",
              "      <th>type</th>\n",
              "      <th>title</th>\n",
              "      <th>director</th>\n",
              "      <th>cast</th>\n",
              "      <th>country</th>\n",
              "      <th>date_added</th>\n",
              "      <th>release_year</th>\n",
              "      <th>rating</th>\n",
              "      <th>duration</th>\n",
              "      <th>listed_in</th>\n",
              "      <th>description</th>\n",
              "    </tr>\n",
              "  </thead>\n",
              "  <tbody>\n",
              "    <tr>\n",
              "      <th>0</th>\n",
              "      <td>s1</td>\n",
              "      <td>Movie</td>\n",
              "      <td>Dick Johnson Is Dead</td>\n",
              "      <td>Kirsten Johnson</td>\n",
              "      <td>NaN</td>\n",
              "      <td>United States</td>\n",
              "      <td>September 25, 2021</td>\n",
              "      <td>2020</td>\n",
              "      <td>PG-13</td>\n",
              "      <td>90 min</td>\n",
              "      <td>Documentaries</td>\n",
              "      <td>As her father nears the end of his life, filmm...</td>\n",
              "    </tr>\n",
              "    <tr>\n",
              "      <th>1</th>\n",
              "      <td>s2</td>\n",
              "      <td>TV Show</td>\n",
              "      <td>Blood &amp; Water</td>\n",
              "      <td>NaN</td>\n",
              "      <td>Ama Qamata, Khosi Ngema, Gail Mabalane, Thaban...</td>\n",
              "      <td>South Africa</td>\n",
              "      <td>September 24, 2021</td>\n",
              "      <td>2021</td>\n",
              "      <td>TV-MA</td>\n",
              "      <td>2 Seasons</td>\n",
              "      <td>International TV Shows, TV Dramas, TV Mysteries</td>\n",
              "      <td>After crossing paths at a party, a Cape Town t...</td>\n",
              "    </tr>\n",
              "    <tr>\n",
              "      <th>2</th>\n",
              "      <td>s3</td>\n",
              "      <td>TV Show</td>\n",
              "      <td>Ganglands</td>\n",
              "      <td>Julien Leclercq</td>\n",
              "      <td>Sami Bouajila, Tracy Gotoas, Samuel Jouy, Nabi...</td>\n",
              "      <td>NaN</td>\n",
              "      <td>September 24, 2021</td>\n",
              "      <td>2021</td>\n",
              "      <td>TV-MA</td>\n",
              "      <td>1 Season</td>\n",
              "      <td>Crime TV Shows, International TV Shows, TV Act...</td>\n",
              "      <td>To protect his family from a powerful drug lor...</td>\n",
              "    </tr>\n",
              "    <tr>\n",
              "      <th>3</th>\n",
              "      <td>s4</td>\n",
              "      <td>TV Show</td>\n",
              "      <td>Jailbirds New Orleans</td>\n",
              "      <td>NaN</td>\n",
              "      <td>NaN</td>\n",
              "      <td>NaN</td>\n",
              "      <td>September 24, 2021</td>\n",
              "      <td>2021</td>\n",
              "      <td>TV-MA</td>\n",
              "      <td>1 Season</td>\n",
              "      <td>Docuseries, Reality TV</td>\n",
              "      <td>Feuds, flirtations and toilet talk go down amo...</td>\n",
              "    </tr>\n",
              "    <tr>\n",
              "      <th>4</th>\n",
              "      <td>s5</td>\n",
              "      <td>TV Show</td>\n",
              "      <td>Kota Factory</td>\n",
              "      <td>NaN</td>\n",
              "      <td>Mayur More, Jitendra Kumar, Ranjan Raj, Alam K...</td>\n",
              "      <td>India</td>\n",
              "      <td>September 24, 2021</td>\n",
              "      <td>2021</td>\n",
              "      <td>TV-MA</td>\n",
              "      <td>2 Seasons</td>\n",
              "      <td>International TV Shows, Romantic TV Shows, TV ...</td>\n",
              "      <td>In a city of coaching centers known to train I...</td>\n",
              "    </tr>\n",
              "  </tbody>\n",
              "</table>\n",
              "</div>\n",
              "    <div class=\"colab-df-buttons\">\n",
              "\n",
              "  <div class=\"colab-df-container\">\n",
              "    <button class=\"colab-df-convert\" onclick=\"convertToInteractive('df-54cc211e-5f94-4479-9d44-9537e17c134c')\"\n",
              "            title=\"Convert this dataframe to an interactive table.\"\n",
              "            style=\"display:none;\">\n",
              "\n",
              "  <svg xmlns=\"http://www.w3.org/2000/svg\" height=\"24px\" viewBox=\"0 -960 960 960\">\n",
              "    <path d=\"M120-120v-720h720v720H120Zm60-500h600v-160H180v160Zm220 220h160v-160H400v160Zm0 220h160v-160H400v160ZM180-400h160v-160H180v160Zm440 0h160v-160H620v160ZM180-180h160v-160H180v160Zm440 0h160v-160H620v160Z\"/>\n",
              "  </svg>\n",
              "    </button>\n",
              "\n",
              "  <style>\n",
              "    .colab-df-container {\n",
              "      display:flex;\n",
              "      gap: 12px;\n",
              "    }\n",
              "\n",
              "    .colab-df-convert {\n",
              "      background-color: #E8F0FE;\n",
              "      border: none;\n",
              "      border-radius: 50%;\n",
              "      cursor: pointer;\n",
              "      display: none;\n",
              "      fill: #1967D2;\n",
              "      height: 32px;\n",
              "      padding: 0 0 0 0;\n",
              "      width: 32px;\n",
              "    }\n",
              "\n",
              "    .colab-df-convert:hover {\n",
              "      background-color: #E2EBFA;\n",
              "      box-shadow: 0px 1px 2px rgba(60, 64, 67, 0.3), 0px 1px 3px 1px rgba(60, 64, 67, 0.15);\n",
              "      fill: #174EA6;\n",
              "    }\n",
              "\n",
              "    .colab-df-buttons div {\n",
              "      margin-bottom: 4px;\n",
              "    }\n",
              "\n",
              "    [theme=dark] .colab-df-convert {\n",
              "      background-color: #3B4455;\n",
              "      fill: #D2E3FC;\n",
              "    }\n",
              "\n",
              "    [theme=dark] .colab-df-convert:hover {\n",
              "      background-color: #434B5C;\n",
              "      box-shadow: 0px 1px 3px 1px rgba(0, 0, 0, 0.15);\n",
              "      filter: drop-shadow(0px 1px 2px rgba(0, 0, 0, 0.3));\n",
              "      fill: #FFFFFF;\n",
              "    }\n",
              "  </style>\n",
              "\n",
              "    <script>\n",
              "      const buttonEl =\n",
              "        document.querySelector('#df-54cc211e-5f94-4479-9d44-9537e17c134c button.colab-df-convert');\n",
              "      buttonEl.style.display =\n",
              "        google.colab.kernel.accessAllowed ? 'block' : 'none';\n",
              "\n",
              "      async function convertToInteractive(key) {\n",
              "        const element = document.querySelector('#df-54cc211e-5f94-4479-9d44-9537e17c134c');\n",
              "        const dataTable =\n",
              "          await google.colab.kernel.invokeFunction('convertToInteractive',\n",
              "                                                    [key], {});\n",
              "        if (!dataTable) return;\n",
              "\n",
              "        const docLinkHtml = 'Like what you see? Visit the ' +\n",
              "          '<a target=\"_blank\" href=https://colab.research.google.com/notebooks/data_table.ipynb>data table notebook</a>'\n",
              "          + ' to learn more about interactive tables.';\n",
              "        element.innerHTML = '';\n",
              "        dataTable['output_type'] = 'display_data';\n",
              "        await google.colab.output.renderOutput(dataTable, element);\n",
              "        const docLink = document.createElement('div');\n",
              "        docLink.innerHTML = docLinkHtml;\n",
              "        element.appendChild(docLink);\n",
              "      }\n",
              "    </script>\n",
              "  </div>\n",
              "\n",
              "\n",
              "<div id=\"df-f7bae913-9b0d-468e-9111-bfd18a3766cd\">\n",
              "  <button class=\"colab-df-quickchart\" onclick=\"quickchart('df-f7bae913-9b0d-468e-9111-bfd18a3766cd')\"\n",
              "            title=\"Suggest charts\"\n",
              "            style=\"display:none;\">\n",
              "\n",
              "<svg xmlns=\"http://www.w3.org/2000/svg\" height=\"24px\"viewBox=\"0 0 24 24\"\n",
              "     width=\"24px\">\n",
              "    <g>\n",
              "        <path d=\"M19 3H5c-1.1 0-2 .9-2 2v14c0 1.1.9 2 2 2h14c1.1 0 2-.9 2-2V5c0-1.1-.9-2-2-2zM9 17H7v-7h2v7zm4 0h-2V7h2v10zm4 0h-2v-4h2v4z\"/>\n",
              "    </g>\n",
              "</svg>\n",
              "  </button>\n",
              "\n",
              "<style>\n",
              "  .colab-df-quickchart {\n",
              "      --bg-color: #E8F0FE;\n",
              "      --fill-color: #1967D2;\n",
              "      --hover-bg-color: #E2EBFA;\n",
              "      --hover-fill-color: #174EA6;\n",
              "      --disabled-fill-color: #AAA;\n",
              "      --disabled-bg-color: #DDD;\n",
              "  }\n",
              "\n",
              "  [theme=dark] .colab-df-quickchart {\n",
              "      --bg-color: #3B4455;\n",
              "      --fill-color: #D2E3FC;\n",
              "      --hover-bg-color: #434B5C;\n",
              "      --hover-fill-color: #FFFFFF;\n",
              "      --disabled-bg-color: #3B4455;\n",
              "      --disabled-fill-color: #666;\n",
              "  }\n",
              "\n",
              "  .colab-df-quickchart {\n",
              "    background-color: var(--bg-color);\n",
              "    border: none;\n",
              "    border-radius: 50%;\n",
              "    cursor: pointer;\n",
              "    display: none;\n",
              "    fill: var(--fill-color);\n",
              "    height: 32px;\n",
              "    padding: 0;\n",
              "    width: 32px;\n",
              "  }\n",
              "\n",
              "  .colab-df-quickchart:hover {\n",
              "    background-color: var(--hover-bg-color);\n",
              "    box-shadow: 0 1px 2px rgba(60, 64, 67, 0.3), 0 1px 3px 1px rgba(60, 64, 67, 0.15);\n",
              "    fill: var(--button-hover-fill-color);\n",
              "  }\n",
              "\n",
              "  .colab-df-quickchart-complete:disabled,\n",
              "  .colab-df-quickchart-complete:disabled:hover {\n",
              "    background-color: var(--disabled-bg-color);\n",
              "    fill: var(--disabled-fill-color);\n",
              "    box-shadow: none;\n",
              "  }\n",
              "\n",
              "  .colab-df-spinner {\n",
              "    border: 2px solid var(--fill-color);\n",
              "    border-color: transparent;\n",
              "    border-bottom-color: var(--fill-color);\n",
              "    animation:\n",
              "      spin 1s steps(1) infinite;\n",
              "  }\n",
              "\n",
              "  @keyframes spin {\n",
              "    0% {\n",
              "      border-color: transparent;\n",
              "      border-bottom-color: var(--fill-color);\n",
              "      border-left-color: var(--fill-color);\n",
              "    }\n",
              "    20% {\n",
              "      border-color: transparent;\n",
              "      border-left-color: var(--fill-color);\n",
              "      border-top-color: var(--fill-color);\n",
              "    }\n",
              "    30% {\n",
              "      border-color: transparent;\n",
              "      border-left-color: var(--fill-color);\n",
              "      border-top-color: var(--fill-color);\n",
              "      border-right-color: var(--fill-color);\n",
              "    }\n",
              "    40% {\n",
              "      border-color: transparent;\n",
              "      border-right-color: var(--fill-color);\n",
              "      border-top-color: var(--fill-color);\n",
              "    }\n",
              "    60% {\n",
              "      border-color: transparent;\n",
              "      border-right-color: var(--fill-color);\n",
              "    }\n",
              "    80% {\n",
              "      border-color: transparent;\n",
              "      border-right-color: var(--fill-color);\n",
              "      border-bottom-color: var(--fill-color);\n",
              "    }\n",
              "    90% {\n",
              "      border-color: transparent;\n",
              "      border-bottom-color: var(--fill-color);\n",
              "    }\n",
              "  }\n",
              "</style>\n",
              "\n",
              "  <script>\n",
              "    async function quickchart(key) {\n",
              "      const quickchartButtonEl =\n",
              "        document.querySelector('#' + key + ' button');\n",
              "      quickchartButtonEl.disabled = true;  // To prevent multiple clicks.\n",
              "      quickchartButtonEl.classList.add('colab-df-spinner');\n",
              "      try {\n",
              "        const charts = await google.colab.kernel.invokeFunction(\n",
              "            'suggestCharts', [key], {});\n",
              "      } catch (error) {\n",
              "        console.error('Error during call to suggestCharts:', error);\n",
              "      }\n",
              "      quickchartButtonEl.classList.remove('colab-df-spinner');\n",
              "      quickchartButtonEl.classList.add('colab-df-quickchart-complete');\n",
              "    }\n",
              "    (() => {\n",
              "      let quickchartButtonEl =\n",
              "        document.querySelector('#df-f7bae913-9b0d-468e-9111-bfd18a3766cd button');\n",
              "      quickchartButtonEl.style.display =\n",
              "        google.colab.kernel.accessAllowed ? 'block' : 'none';\n",
              "    })();\n",
              "  </script>\n",
              "</div>\n",
              "\n",
              "    </div>\n",
              "  </div>\n"
            ],
            "text/plain": [
              "  show_id     type                  title         director  \\\n",
              "0      s1    Movie   Dick Johnson Is Dead  Kirsten Johnson   \n",
              "1      s2  TV Show          Blood & Water              NaN   \n",
              "2      s3  TV Show              Ganglands  Julien Leclercq   \n",
              "3      s4  TV Show  Jailbirds New Orleans              NaN   \n",
              "4      s5  TV Show           Kota Factory              NaN   \n",
              "\n",
              "                                                cast        country  \\\n",
              "0                                                NaN  United States   \n",
              "1  Ama Qamata, Khosi Ngema, Gail Mabalane, Thaban...   South Africa   \n",
              "2  Sami Bouajila, Tracy Gotoas, Samuel Jouy, Nabi...            NaN   \n",
              "3                                                NaN            NaN   \n",
              "4  Mayur More, Jitendra Kumar, Ranjan Raj, Alam K...          India   \n",
              "\n",
              "           date_added  release_year rating   duration  \\\n",
              "0  September 25, 2021          2020  PG-13     90 min   \n",
              "1  September 24, 2021          2021  TV-MA  2 Seasons   \n",
              "2  September 24, 2021          2021  TV-MA   1 Season   \n",
              "3  September 24, 2021          2021  TV-MA   1 Season   \n",
              "4  September 24, 2021          2021  TV-MA  2 Seasons   \n",
              "\n",
              "                                           listed_in  \\\n",
              "0                                      Documentaries   \n",
              "1    International TV Shows, TV Dramas, TV Mysteries   \n",
              "2  Crime TV Shows, International TV Shows, TV Act...   \n",
              "3                             Docuseries, Reality TV   \n",
              "4  International TV Shows, Romantic TV Shows, TV ...   \n",
              "\n",
              "                                         description  \n",
              "0  As her father nears the end of his life, filmm...  \n",
              "1  After crossing paths at a party, a Cape Town t...  \n",
              "2  To protect his family from a powerful drug lor...  \n",
              "3  Feuds, flirtations and toilet talk go down amo...  \n",
              "4  In a city of coaching centers known to train I...  "
            ]
          },
          "execution_count": 113,
          "metadata": {},
          "output_type": "execute_result"
        }
      ],
      "source": [
        "dados.head(5)"
      ]
    },
    {
      "cell_type": "markdown",
      "metadata": {
        "id": "NMrN0XbSdKeo"
      },
      "source": [
        "# ***- Verificar e tratar valores ausentes***"
      ]
    },
    {
      "cell_type": "code",
      "execution_count": 114,
      "metadata": {
        "colab": {
          "base_uri": "https://localhost:8080/",
          "height": 461
        },
        "id": "W_YFuq6_CPvQ",
        "outputId": "b268d0e9-160e-4d7b-c142-e0ed13db24f0"
      },
      "outputs": [
        {
          "data": {
            "text/html": [
              "<div>\n",
              "<style scoped>\n",
              "    .dataframe tbody tr th:only-of-type {\n",
              "        vertical-align: middle;\n",
              "    }\n",
              "\n",
              "    .dataframe tbody tr th {\n",
              "        vertical-align: top;\n",
              "    }\n",
              "\n",
              "    .dataframe thead th {\n",
              "        text-align: right;\n",
              "    }\n",
              "</style>\n",
              "<table border=\"1\" class=\"dataframe\">\n",
              "  <thead>\n",
              "    <tr style=\"text-align: right;\">\n",
              "      <th></th>\n",
              "      <th>0</th>\n",
              "    </tr>\n",
              "  </thead>\n",
              "  <tbody>\n",
              "    <tr>\n",
              "      <th>show_id</th>\n",
              "      <td>0</td>\n",
              "    </tr>\n",
              "    <tr>\n",
              "      <th>type</th>\n",
              "      <td>0</td>\n",
              "    </tr>\n",
              "    <tr>\n",
              "      <th>title</th>\n",
              "      <td>0</td>\n",
              "    </tr>\n",
              "    <tr>\n",
              "      <th>director</th>\n",
              "      <td>2634</td>\n",
              "    </tr>\n",
              "    <tr>\n",
              "      <th>cast</th>\n",
              "      <td>825</td>\n",
              "    </tr>\n",
              "    <tr>\n",
              "      <th>country</th>\n",
              "      <td>831</td>\n",
              "    </tr>\n",
              "    <tr>\n",
              "      <th>date_added</th>\n",
              "      <td>10</td>\n",
              "    </tr>\n",
              "    <tr>\n",
              "      <th>release_year</th>\n",
              "      <td>0</td>\n",
              "    </tr>\n",
              "    <tr>\n",
              "      <th>rating</th>\n",
              "      <td>4</td>\n",
              "    </tr>\n",
              "    <tr>\n",
              "      <th>duration</th>\n",
              "      <td>3</td>\n",
              "    </tr>\n",
              "    <tr>\n",
              "      <th>listed_in</th>\n",
              "      <td>0</td>\n",
              "    </tr>\n",
              "    <tr>\n",
              "      <th>description</th>\n",
              "      <td>0</td>\n",
              "    </tr>\n",
              "  </tbody>\n",
              "</table>\n",
              "</div><br><label><b>dtype:</b> int64</label>"
            ],
            "text/plain": [
              "show_id            0\n",
              "type               0\n",
              "title              0\n",
              "director        2634\n",
              "cast             825\n",
              "country          831\n",
              "date_added        10\n",
              "release_year       0\n",
              "rating             4\n",
              "duration           3\n",
              "listed_in          0\n",
              "description        0\n",
              "dtype: int64"
            ]
          },
          "execution_count": 114,
          "metadata": {},
          "output_type": "execute_result"
        }
      ],
      "source": [
        "# Verificar ausentes\n",
        "dados.isnull().sum()"
      ]
    },
    {
      "cell_type": "code",
      "execution_count": null,
      "metadata": {
        "id": "SPMfhuw_eyTF"
      },
      "outputs": [],
      "source": [
        "# Vamos começar a tratar os valores ausentes."
      ]
    },
    {
      "cell_type": "code",
      "execution_count": null,
      "metadata": {
        "id": "luXQF8_zDY8G"
      },
      "outputs": [],
      "source": [
        "# Estratégias que aprendi para Tratar os Valores Ausentes\n",
        "# Remover Linhas com Valores Ausentes\n",
        "# Preencher Valores Ausentes com a Média\n",
        "# Preencher Valores Ausentes com a Mediana\n",
        "# Preencher Valores Ausentes com um Valor Específico\n",
        "# podemos preencher os valores ausentes, podemos usar diferentes estratégias, dependendo do tipo de dado:\n",
        "# Para colunas numéricas (como rating e duration), podemos preencher com a média, mediana ou valor mais frequente.\n",
        "# Para colunas categóricas (como director, cast, country), podemos preencher com o valor mais frequente ou com uma categoria como \"Desconhecido\"."
      ]
    },
    {
      "cell_type": "markdown",
      "metadata": {
        "id": "uaBqSgJalySw"
      },
      "source": [
        "***- Se meu objetivo for:***\n",
        "\n",
        "***- for uma análise estatística, preencha com a média.***\n",
        "\n",
        "***- for uma visualização, remova os valores ausentes.***\n",
        "\n",
        "***- Se precisar apenas exibir sem afetar cálculos, use \"Desconhecido\".***"
      ]
    },
    {
      "cell_type": "code",
      "execution_count": null,
      "metadata": {
        "id": "bv6XPhpGnekk"
      },
      "outputs": [],
      "source": [
        "# Vamos remover os valores ausentes, pq só quero uma visualização.\n",
        "dados.dropna(subset=['duration'], inplace=True)"
      ]
    },
    {
      "cell_type": "markdown",
      "metadata": {
        "id": "5rL06ipBg7wh"
      },
      "source": [
        "# ***- Identificar a estrutura e os tipos de variáveis da base.***"
      ]
    },
    {
      "cell_type": "code",
      "execution_count": null,
      "metadata": {
        "colab": {
          "base_uri": "https://localhost:8080/"
        },
        "id": "im0u6C2ZhCNI",
        "outputId": "8b80c5a5-b148-49b0-dd47-6f5c0ea2217b"
      },
      "outputs": [
        {
          "name": "stdout",
          "output_type": "stream",
          "text": [
            "<class 'pandas.core.frame.DataFrame'>\n",
            "Index: 8804 entries, 0 to 8806\n",
            "Data columns (total 12 columns):\n",
            " #   Column        Non-Null Count  Dtype \n",
            "---  ------        --------------  ----- \n",
            " 0   show_id       8804 non-null   object\n",
            " 1   type          8804 non-null   object\n",
            " 2   title         8804 non-null   object\n",
            " 3   director      6170 non-null   object\n",
            " 4   cast          7979 non-null   object\n",
            " 5   country       7973 non-null   object\n",
            " 6   date_added    8794 non-null   object\n",
            " 7   release_year  8804 non-null   int64 \n",
            " 8   rating        8800 non-null   object\n",
            " 9   duration      8804 non-null   object\n",
            " 10  listed_in     8804 non-null   object\n",
            " 11  description   8804 non-null   object\n",
            "dtypes: int64(1), object(11)\n",
            "memory usage: 894.2+ KB\n"
          ]
        }
      ],
      "source": [
        "# Comando para Identificar a estrutura e os tipos de variáveis da base.\n",
        "dados.info()"
      ]
    },
    {
      "cell_type": "markdown",
      "metadata": {
        "id": "_na3cx6ThI2q"
      },
      "source": [
        "# ***3. Identifição e Remoção de Outliers:***\n",
        "\n",
        "***- Aplicar métodos estatísticos para detectar outliers, como boxplot, z-score ou IQR***"
      ]
    },
    {
      "cell_type": "code",
      "execution_count": 117,
      "metadata": {
        "id": "mD1fwd-lhW8n"
      },
      "outputs": [],
      "source": [
        "# Vamos aplicar três métodos estatísticos para detectar outliers na coluna\n",
        "# duration (duração), já que é a única coluna numérica relevante.\n",
        "\n",
        "# Filtrar apenas os filmes\n",
        "filmes = dados[dados['type'] == 'Movie'].copy()\n",
        "\n",
        "# Extrair os números da coluna 'duration' (removendo \"min\") ANTES de converter para numérico\n",
        "filmes['duration'] = filmes['duration'].astype(str).str.extract('(\\d+)').astype(float)\n",
        "\n",
        "# Calcular a média apenas com os filmes\n",
        "media_duracao = filmes['duration'].mean()\n",
        "\n",
        "# Agora podemos preencher os valores ausentes da coluna 'duration'\n",
        "dados.loc[dados['type'] == 'Movie', 'duration'] = filmes['duration'].fillna(media_duracao)"
      ]
    },
    {
      "cell_type": "code",
      "execution_count": 118,
      "metadata": {
        "colab": {
          "base_uri": "https://localhost:8080/"
        },
        "id": "wYfvgC1qk4SW",
        "outputId": "e60d4b55-d181-43b3-bd04-4cf5c56b42fa"
      },
      "outputs": [
        {
          "name": "stdout",
          "output_type": "stream",
          "text": [
            "                                                title duration\n",
            "0                                Dick Johnson Is Dead     90.0\n",
            "6                    My Little Pony: A New Generation     91.0\n",
            "7                                             Sankofa    125.0\n",
            "9                                        The Starling    104.0\n",
            "12                                       Je Suis Karl    127.0\n",
            "13                   Confessions of an Invisible Girl     91.0\n",
            "16  Europe's Most Dangerous Man: Otto Skorzeny in ...     67.0\n",
            "18                                          Intrusion     94.0\n",
            "22                                    Avvai Shanmughi    161.0\n",
            "23       Go! Go! Cory Carson: Chrissy Takes the Wheel     61.0\n"
          ]
        }
      ],
      "source": [
        "print(dados[dados['type'] == 'Movie'][['title', 'duration']].head(10))"
      ]
    },
    {
      "cell_type": "code",
      "execution_count": 119,
      "metadata": {
        "colab": {
          "base_uri": "https://localhost:8080/",
          "height": 487
        },
        "id": "Rv8g3ZJ3oMcv",
        "outputId": "451f073c-0d56-4d13-b119-f4df56460868"
      },
      "outputs": [
        {
          "data": {
            "image/png": "[encoded data removed]",
            "text/plain": [
              "<Figure size 800x500 with 1 Axes>"
            ]
          },
          "metadata": {},
          "output_type": "display_data"
        }
      ],
      "source": [
        "import matplotlib.pyplot as plt\n",
        "import seaborn as sns\n",
        "\n",
        "# Criar o boxplot para visualizar os outliers na coluna 'duration'\n",
        "plt.figure(figsize=(8,5))\n",
        "sns.boxplot(x=filmes['duration'])\n",
        "\n",
        "# Título e rótulos\n",
        "plt.title(\"Boxplot da Duração dos Filmes\")\n",
        "plt.xlabel(\"Duração (min)\")\n",
        "\n",
        "# Exibir o gráfico\n",
        "plt.show()"
      ]
    },
    {
      "cell_type": "code",
      "execution_count": 120,
      "metadata": {
        "colab": {
          "base_uri": "https://localhost:8080/"
        },
        "id": "Z7u0oZSyph8x",
        "outputId": "ef19b6d4-7136-4f52-ff73-84e869c7d151"
      },
      "outputs": [
        {
          "name": "stdout",
          "output_type": "stream",
          "text": [
            "                                                  title  duration   z_score\n",
            "71                          A StoryBots Space Adventure      13.0 -3.060282\n",
            "166                         Once Upon a Time in America     229.0  4.574765\n",
            "341                                            Magnolia     189.0  3.160867\n",
            "694                                               Aziza      13.0 -3.060282\n",
            "695                                      Besieged Bread      12.0 -3.095629\n",
            "717                         Headspace: Unwind Your Mind     273.0  6.130052\n",
            "806   Seven Souls in the Skull Castle: Season Moon J...     204.0  3.691079\n",
            "807   Seven Souls in the Skull Castle: Season Moon K...     212.0  3.973858\n",
            "1019                                             Lagaan     224.0  4.398028\n",
            "1132       Seven Souls in the Skull Castle: Season Wind     185.0  3.019478\n",
            "1425                        Creating The Queen's Gambit      14.0 -3.024934\n",
            "1484                                   Cops and Robbers       8.0 -3.237019\n",
            "1557                                             Canvas       9.0 -3.201671\n",
            "1669                     If Anything Happens I Love You      13.0 -3.060282\n",
            "2126                               What's Your Raashee?     203.0  3.655731\n",
            "2373                                            Saladin     194.0  3.337605\n",
            "2483                            Fifty Year Old Teenager     204.0  3.691079\n",
            "2484                                 Lock Your Girls In     233.0  4.716155\n",
            "2487                                     No Longer kids     237.0  4.857544\n",
            "2488                                    Raya and Sakina     230.0  4.610112\n",
            "2490                                The Married Couples     195.0  3.372952\n",
            "2491                             The School of Mischief     253.0  5.423103\n",
            "2543  Unbreakable Kimmy Schmidt: Kimmy vs. the Reverend     190.0  3.196215\n",
            "2632                       No Direction Home: Bob Dylan     208.0  3.832469\n",
            "2713                                        Sol Levante       5.0 -3.343061\n",
            "2730                             Kabhi Alvida Naa Kehna     192.0  3.266910\n",
            "2731                           Kabhi Khushi Kabhie Gham     209.0  3.867816\n",
            "2732                                      Kal Ho Naa Ho     187.0  3.090172\n",
            "2734                                 Kuch Kuch Hota Hai     185.0  3.019478\n",
            "2843                                             Aurora     186.0  3.054825\n",
            "2858  Calico Critters: Everyone's Big Dream Flying i...      11.0 -3.130977\n",
            "2957                                Hum Aapke Hain Koun     193.0  3.302257\n",
            "3131                                     Dil Chahta Hai     185.0  3.019478\n",
            "3142                                            Lakshya     185.0  3.019478\n",
            "3227                                       The Irishman     209.0  3.867816\n",
            "3364  The Road to El Camino: Behind the Scenes of El...      14.0 -3.024934\n",
            "3535   American Factory: A Conversation with the Obamas      10.0 -3.166324\n",
            "3775                     Cosmos Laundromat: First Cycle      12.0 -3.095629\n",
            "3777                                             Silent       3.0 -3.413756\n",
            "4253                         Black Mirror: Bandersnatch     312.0  7.508602\n",
            "4573                                       Jodhaa Akbar     214.0  4.044553\n",
            "4707                                               Zion      12.0 -3.095629\n",
            "5014                                             Swades     185.0  3.019478\n",
            "5375                Buddy Thunderstruck: The Maybe Pile      14.0 -3.024934\n",
            "6405                  Calico Critters: A Town of Dreams      11.0 -3.130977\n",
            "6619                                     Doctor Zhivago     200.0  3.549689\n",
            "6680                             Elephants Dream 4 Hour     196.0  3.408299\n",
            "7387                                    Maine Pyar Kiya     192.0  3.266910\n",
            "7530                               Mutiny on the Bounty     185.0  3.019478\n",
            "7706                                             Pardes     187.0  3.090172\n",
            "7932                                             Sangam     228.0  4.539417\n",
            "7957                                   Schindler's List     195.0  3.372952\n",
            "8327                                 The Gospel of Luke     205.0  3.726426\n",
            "8329                              The Gospel of Matthew     190.0  3.196215\n",
            "8404      The Lord of the Rings: The Return of the King     201.0  3.585037\n",
            "8764                                         Wyatt Earp     191.0  3.231562\n"
          ]
        }
      ],
      "source": [
        "import numpy as np\n",
        "\n",
        "# Calcular a média e o desvio padrão da duração\n",
        "media = filmes['duration'].mean()\n",
        "desvio_padrao = filmes['duration'].std()\n",
        "\n",
        "# Calcular o Z-Score para cada valor de 'duration'\n",
        "filmes['z_score'] = (filmes['duration'] - media) / desvio_padrao\n",
        "\n",
        "# Definir um limite de Z-Score (outliers quando > 3 ou < -3)\n",
        "outliers_zscore = filmes[np.abs(filmes['z_score']) > 3]\n",
        "\n",
        "# Exibir os outliers detectados pelo Z-Score\n",
        "print(outliers_zscore[['title', 'duration', 'z_score']])"
      ]
    },
    {
      "cell_type": "code",
      "execution_count": 121,
      "metadata": {
        "colab": {
          "base_uri": "https://localhost:8080/"
        },
        "id": "cfcRemaepuNZ",
        "outputId": "a0c61379-7fd4-4a03-a810-8eb582ea0807"
      },
      "outputs": [
        {
          "name": "stdout",
          "output_type": "stream",
          "text": [
            "                                title  duration\n",
            "22                    Avvai Shanmughi     161.0\n",
            "24                              Jeans     166.0\n",
            "45             My Heroes Were Cowboys      23.0\n",
            "71        A StoryBots Space Adventure      13.0\n",
            "73                       King of Boys     182.0\n",
            "...                               ...       ...\n",
            "8763  WWII: Report from the Aleutians      45.0\n",
            "8764                       Wyatt Earp     191.0\n",
            "8770                          Yaadein     171.0\n",
            "8788                     You Carry Me     157.0\n",
            "8802                           Zodiac     158.0\n",
            "\n",
            "[450 rows x 2 columns]\n"
          ]
        }
      ],
      "source": [
        "# Calcular o primeiro e o terceiro quartil\n",
        "Q1 = filmes['duration'].quantile(0.25)\n",
        "Q3 = filmes['duration'].quantile(0.75)\n",
        "\n",
        "# Calcular o IQR\n",
        "IQR = Q3 - Q1\n",
        "\n",
        "# Definir os limites inferior e superior para identificar outliers\n",
        "limite_inferior = Q1 - 1.5 * IQR\n",
        "limite_superior = Q3 + 1.5 * IQR\n",
        "\n",
        "# Identificar os outliers com base no IQR\n",
        "outliers_iqr = filmes[(filmes['duration'] < limite_inferior) | (filmes['duration'] > limite_superior)]\n",
        "\n",
        "# Exibir os outliers detectados pelo IQR\n",
        "print(outliers_iqr[['title', 'duration']])"
      ]
    },
    {
      "cell_type": "markdown",
      "metadata": {
        "id": "bHeOtDETrL5u"
      },
      "source": [
        "# ***- Explicar quais critérios foram utilizados para considerar um valor como outilier.***\n",
        "\n",
        "- ***Boxplot:*** O Boxplot utiliza o Intervalo Interquartil (IQR) para identificar valores extremos, chamados de outliers. O IQR é a diferença entre o terceiro quartil (Q3) e o primeiro quartil (Q1). Os outliers são definidos como os valores que ficam fora de um intervalo determinado pelos quartis, que são Limite Inferior e Limite Superior. O Valor será considerado outlier se for: qualquer dado que seja menor que o limite inferior ou maior que o limite superior.\n",
        "\n",
        "- ***Z-Score:*** O Z-Score mede a quantidade de desvios padrão que um valor está distante da média dos dados. Esse método é útil para detectar outliers em distribuições aproximadamente normais (distribuições que seguem uma curva de Gauss). Ele tem uma fórmula (Pesquise). Mas basicamente, é considerado Outilier os valores cujo Z-Score é maior que 3 ou menor que -3. Isso significa que o valor está a mais de 3 desvios padrão da média.\n",
        "\n",
        "-  ***IQR (Intervalo Interquartil):*** O IQR é uma medida de dispersão dos dados. A diferença do uso do IQR é que ele foca apenas no intervalo interquartil e pode ser mais robusto para distribuições que não são perfeitamente normais. O IQR é o intervalo entre o primeiro quartil (Q1) e o terceiro quartil (Q3). Ele descreve a faixa central dos dados, onde 50% dos dados estão localizados. Então, será considerado Outlier se são valores que estão fora do intervalo."
      ]
    },
    {
      "cell_type": "markdown",
      "metadata": {
        "id": "fx_JiC7AtbkY"
      },
      "source": [
        "# Remover os outliers e justificar a decisão!"
      ]
    },
    {
      "cell_type": "code",
      "execution_count": 122,
      "metadata": {
        "colab": {
          "base_uri": "https://localhost:8080/"
        },
        "id": "YLFJ_fu1thN7",
        "outputId": "184f11f8-dd83-49ad-9255-dfc051101bda"
      },
      "outputs": [
        {
          "name": "stdout",
          "output_type": "stream",
          "text": [
            "                                                title  duration\n",
            "0                                Dick Johnson Is Dead      90.0\n",
            "6                    My Little Pony: A New Generation      91.0\n",
            "7                                             Sankofa     125.0\n",
            "9                                        The Starling     104.0\n",
            "12                                       Je Suis Karl     127.0\n",
            "13                   Confessions of an Invisible Girl      91.0\n",
            "16  Europe's Most Dangerous Man: Otto Skorzeny in ...      67.0\n",
            "18                                          Intrusion      94.0\n",
            "23       Go! Go! Cory Carson: Chrissy Takes the Wheel      61.0\n",
            "26                                     Minsara Kanavu     147.0\n"
          ]
        }
      ],
      "source": [
        "# Calcular o IQR\n",
        "Q1 = filmes['duration'].quantile(0.25)\n",
        "Q3 = filmes['duration'].quantile(0.75)\n",
        "IQR = Q3 - Q1\n",
        "\n",
        "# Definir os limites inferior e superior\n",
        "limite_inferior = Q1 - 1.5 * IQR\n",
        "limite_superior = Q3 + 1.5 * IQR\n",
        "\n",
        "# Filtrar os dados removendo os outliers\n",
        "filmes_sem_outliers_iqr = filmes[(filmes['duration'] >= limite_inferior) & (filmes['duration'] <= limite_superior)]\n",
        "\n",
        "# Exibir os dados sem outliers\n",
        "print(filmes_sem_outliers_iqr[['title', 'duration']].head(10))"
      ]
    },
    {
      "cell_type": "markdown",
      "metadata": {
        "id": "1JBy59MWtr0G"
      },
      "source": [
        "***JUSTIFICATIVA***\n",
        "\n",
        "- Melhora na Qualidade dos Dados: Remover outliers assegura que as análises e modelos posteriores sejam baseados em dados representativos, sem distorções causadas por valores extremos.\n",
        "\n",
        "- Aumento da Precisão: A remoção de outliers torna as médias e outras estatísticas mais confiáveis, permitindo uma análise mais precisa da duração dos filmes.\n",
        "\n",
        "- Redução de Erros de Entrada: Se os outliers são causados por erros de digitação ou dados inválidos, removê-los ajuda a garantir a integridade dos dados.\n",
        "\n",
        "- Impacto na Análise: A remoção dos outliers pode resultar em uma distribuição de dados mais equilibrada e alinhada com a realidade dos filmes. Isso pode melhorar a performance de qualquer modelo preditivo ou análise que dependa da duração média dos filmes e outras estatísticas relacionadas."
      ]
    },
    {
      "cell_type": "markdown",
      "metadata": {
        "id": "W1e-b47MvJrw"
      },
      "source": [
        "***Selecionar pelo menos 3 colunas numéricas da base para análise.***\n",
        "\n",
        "***Construir histogramas e boxplots para visualizar a distribuição dos dados.***\n",
        "\n",
        "***Calcular medidas estatisticas, como média, mediana, desvio-padrão e curtose.***\n",
        "\n",
        "***Interpretar os resultados e descrever os padrões observados.***"
      ]
    },
    {
      "cell_type": "code",
      "execution_count": null,
      "metadata": {
        "id": "mFvyqF1HvRS_"
      },
      "outputs": [],
      "source": [
        "# Irei de: duration, release_year e rating.\n",
        "\"\"\"\n",
        "duration: Representa a duração dos filmes e pode ser analisada para verificar\n",
        "sua distribuição.\n",
        "\n",
        "release_year: Ano de lançamento, que também pode ser útil para observar\n",
        "tendências ao longo do tempo.\n",
        "\n",
        "rating: Embora seja uma variável categórica, é interessante analisar a\n",
        "distribuição numérica das classificações, tratando-a como uma variável ordinal.\n",
        "\"\"\""
      ]
    },
    {
      "cell_type": "code",
      "execution_count": 123,
      "metadata": {
        "id": "T08i_XCpvoeq"
      },
      "outputs": [],
      "source": [
        "# Construir histogramas e boxplots para as três colunas numéricas.\n",
        "\n",
        "# Manter apenas colunas numéricas para análise\n",
        "filmes = filmes[['duration', 'release_year', 'rating']].copy()"
      ]
    },
    {
      "cell_type": "code",
      "execution_count": 124,
      "metadata": {
        "id": "ierKM17HvurH"
      },
      "outputs": [],
      "source": [
        "# Transformar 'rating' em numérico (atribuindo valores)\n",
        "rating_mapping = {\n",
        "    'G': 1, 'PG': 2, 'PG-13': 3, 'R': 4, 'NC-17': 5,\n",
        "    'TV-Y': 1, 'TV-Y7': 2, 'TV-G': 1, 'TV-PG': 2,\n",
        "    'TV-14': 3, 'TV-MA': 4\n",
        "}\n",
        "filmes['rating'] = filmes['rating'].map(rating_mapping)"
      ]
    },
    {
      "cell_type": "code",
      "execution_count": 125,
      "metadata": {
        "id": "iKrDsnNOw0Mh"
      },
      "outputs": [],
      "source": [
        "# Remover valores ausentes\n",
        "filmes.dropna(inplace=True)"
      ]
    },
    {
      "cell_type": "code",
      "execution_count": 126,
      "metadata": {
        "id": "Cvh1WKb0w2Br"
      },
      "outputs": [],
      "source": [
        "from scipy.stats import zscore, kurtosis"
      ]
    },
    {
      "cell_type": "code",
      "execution_count": 127,
      "metadata": {
        "id": "4TM5h7iXw50i"
      },
      "outputs": [],
      "source": [
        "# Calcular estatísticas\n",
        "stats = filmes.describe()\n",
        "stats.loc['kurtosis'] = kurtosis(filmes)"
      ]
    },
    {
      "cell_type": "code",
      "execution_count": 128,
      "metadata": {
        "id": "NxngCveYw8DR"
      },
      "outputs": [],
      "source": [
        "# Identificar outliers usando Z-score (consideramos |Z| > 3 como outlier)\n",
        "z_scores = np.abs(zscore(filmes))\n",
        "outliers = filmes[(z_scores > 3).any(axis=1)]"
      ]
    },
    {
      "cell_type": "code",
      "execution_count": 129,
      "metadata": {
        "id": "dMf-emS8w_t7"
      },
      "outputs": [],
      "source": [
        "# Remover outliers\n",
        "filmes_sem_outliers = filmes[(z_scores <= 3).all(axis=1)]"
      ]
    },
    {
      "cell_type": "code",
      "execution_count": 130,
      "metadata": {
        "colab": {
          "base_uri": "https://localhost:8080/",
          "height": 322
        },
        "id": "RI31c_4xxBGS",
        "outputId": "9993be83-10ff-44f1-cf7a-c32308335c9b"
      },
      "outputs": [
        {
          "data": {
            "image/png": "[encoded data removed]",
            "text/plain": [
              "<Figure size 1800x500 with 3 Axes>"
            ]
          },
          "metadata": {},
          "output_type": "display_data"
        }
      ],
      "source": [
        "# Visualizar histogramas\n",
        "fig, axes = plt.subplots(1, 3, figsize=(18, 5))\n",
        "for i, col in enumerate(['duration', 'release_year', 'rating']):\n",
        "    sns.histplot(filmes_sem_outliers[col], bins=30, kde=True, ax=axes[i])\n",
        "    axes[i].set_title(f'Histograma de {col}')\n",
        "plt.show()"
      ]
    },
    {
      "cell_type": "code",
      "execution_count": 131,
      "metadata": {
        "colab": {
          "base_uri": "https://localhost:8080/",
          "height": 297
        },
        "id": "U18Rpt0gxFhj",
        "outputId": "c2fc6b2d-3f50-4b04-8501-d4b16d5dd9e1"
      },
      "outputs": [
        {
          "data": {
            "image/png": "[encoded data removed]",
            "text/plain": [
              "<Figure size 1800x500 with 3 Axes>"
            ]
          },
          "metadata": {},
          "output_type": "display_data"
        }
      ],
      "source": [
        "# Visualizar boxplots\n",
        "fig, axes = plt.subplots(1, 3, figsize=(18, 5))\n",
        "for i, col in enumerate(['duration', 'release_year', 'rating']):\n",
        "    sns.boxplot(y=filmes_sem_outliers[col], ax=axes[i])\n",
        "    axes[i].set_title(f'Boxplot de {col}')\n",
        "plt.show()"
      ]
    },
    {
      "cell_type": "code",
      "execution_count": 132,
      "metadata": {
        "colab": {
          "base_uri": "https://localhost:8080/"
        },
        "id": "BW5ng32uxHmE",
        "outputId": "29d54080-3063-4033-d7b5-d148dffdac1e"
      },
      "outputs": [
        {
          "name": "stdout",
          "output_type": "stream",
          "text": [
            "             duration  release_year       rating\n",
            "count     6043.000000   6043.000000  6043.000000\n",
            "mean        99.670031   2013.153401     3.215621\n",
            "std         28.378005      9.660222     0.886476\n",
            "min          3.000000   1942.000000     1.000000\n",
            "25%         87.000000   2012.000000     3.000000\n",
            "50%         98.000000   2016.000000     3.000000\n",
            "75%        115.000000   2018.000000     4.000000\n",
            "max        312.000000   2021.000000     5.000000\n",
            "kurtosis     2.281300     12.075852    -0.210235\n"
          ]
        }
      ],
      "source": [
        "# Exibir estatísticas\n",
        "print(stats)"
      ]
    },
    {
      "cell_type": "markdown",
      "metadata": {},
      "source": [
        "# ***Interpretação das Estatísticas***\n",
        "\n",
        "1. Duração dos Filmes (duration)\n",
        "\n",
        "- Média: ~99,67 minutos → A maioria dos filmes tem cerca de 1h40min.\n",
        "\n",
        "- Desvio-padrão: 28,38 → Existe uma variação significativa entre os filmes.\n",
        "\n",
        "- Mínimo: 3 minutos → Pode ser um erro ou um curta-metragem.\n",
        "\n",
        "- Máximo: 312 minutos (~5h12min) → Provavelmente um filme muito longo ou um erro nos dados.\n",
        "\n",
        "- Curtose: 2,28 → Indica que a distribuição tem caudas mais pesadas do que uma normal, ou seja, existem mais valores extremos (outliers).\n",
        "\n",
        "2. Ano de Lançamento (release_year)\n",
        "\n",
        "- Média: 2013 → A maioria dos filmes é recente.\n",
        "\n",
        "- Desvio-padrão: 9,66 → Os filmes abrangem uma grande faixa de anos.\n",
        "\n",
        "- Mínimo: 1942 → Existe pelo menos um filme muito antigo no dataset.\n",
        "\n",
        "- Máximo: 2021 → O dataset inclui lançamentos recentes.\n",
        "\n",
        "- Curtose: 12,08 → Uma curtose muito alta sugere que a distribuição é altamente concentrada em torno de um ano específico, com poucos filmes muito antigos.\n",
        "\n",
        "3. Avaliação (rating)\n",
        "\n",
        "- Média: 3,22 → A maioria dos filmes recebe uma nota média.\n",
        "\n",
        "- Desvio-padrão: 0,88 → As notas não variam muito.\n",
        "\n",
        "- Mínimo: 1 → Existem filmes com avaliações bem baixas.\n",
        "\n",
        "- Máximo: 5 → Alguns filmes atingem a nota máxima.\n",
        "\n",
        "- Curtose: -0,21 → A distribuição das avaliações é ligeiramente mais achatada que a normal, sugerindo que os valores são mais uniformemente distribuídos.\n",
        "\n",
        "Conclusões Gerais:\n",
        "\n",
        "- Os filmes do dataset são, em sua maioria, recentes (anos 2010+).\n",
        "\n",
        "- Existe uma grande variação na duração, com alguns valores extremos que podem ser outliers.\n",
        "\n",
        "- As avaliações estão concentradas entre 3 e 4, indicando uma tendência para notas medianas.\n",
        "\n",
        "- O release_year tem uma curtose muito alta, indicando que a maioria dos filmes foi lançada em anos próximos à média (2013)."
      ]
    },
    {
      "cell_type": "markdown",
      "metadata": {
        "id": "KYbXoWPNxLTU"
      },
      "source": [
        "# ***O que fizemos:***\n",
        "\n",
        "✅ Histogramas e boxplots das colunas analisadas.\n",
        "\n",
        "✅ Estatísticas descritivas (média, mediana, desvio-padrão, curtose).\n",
        "\n",
        "✅ Tratamento de outliers usando Z-score.\n",
        "\n",
        "✅ Conversão da coluna rating para valores numéricos."
      ]
    }
  ],
  "metadata": {
    "colab": {
      "provenance": []
    },
    "kernelspec": {
      "display_name": "Python 3",
      "name": "python3"
    },
    "language_info": {
      "name": "python"
    }
  },
  "nbformat": 4,
  "nbformat_minor": 0
}
